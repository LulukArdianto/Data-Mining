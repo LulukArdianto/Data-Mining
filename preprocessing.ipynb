{
 "cells": [
  {
   "cell_type": "code",
   "execution_count": 1,
   "id": "4ad048e3",
   "metadata": {},
   "outputs": [],
   "source": [
    "import numpy as np\n",
    "import matplotlib.pyplot as plt\n",
    "import pandas as pd"
   ]
  },
  {
   "cell_type": "code",
   "execution_count": 2,
   "id": "8f5a83a0",
   "metadata": {},
   "outputs": [],
   "source": [
    "data = pd.read_csv(\"car.csv\")\n",
    "x = data.iloc[:, :-1].values\n",
    "y = data.iloc[:, -1].values"
   ]
  },
  {
   "cell_type": "code",
   "execution_count": 3,
   "id": "c2e4c315",
   "metadata": {},
   "outputs": [
    {
     "name": "stdout",
     "output_type": "stream",
     "text": [
      "[['vhigh' 'vhigh' '2' '2' 'small' 'low']\n",
      " ['vhigh' 'vhigh' '2' '2' 'small' 'med']\n",
      " ['vhigh' 'vhigh' '2' '2' 'small' 'high']\n",
      " ...\n",
      " ['low' 'low' '5more' 'more' 'big' 'low']\n",
      " ['low' 'low' '5more' 'more' 'big' 'med']\n",
      " ['low' 'low' '5more' 'more' 'big' 'high']]\n"
     ]
    }
   ],
   "source": [
    "print(x)"
   ]
  },
  {
   "cell_type": "code",
   "execution_count": 4,
   "id": "f9c34a3c",
   "metadata": {},
   "outputs": [
    {
     "name": "stdout",
     "output_type": "stream",
     "text": [
      "['unacc' 'unacc' 'unacc' ... 'unacc' 'good' 'vgood']\n"
     ]
    }
   ],
   "source": [
    "print(y)"
   ]
  },
  {
   "cell_type": "code",
   "execution_count": 5,
   "id": "0f83de0d",
   "metadata": {},
   "outputs": [
    {
     "data": {
      "text/plain": [
       "buying        0\n",
       "maint         0\n",
       "doors         0\n",
       "persons       0\n",
       "lug_boot      0\n",
       "safety        0\n",
       "Unnamed: 6    0\n",
       "dtype: int64"
      ]
     },
     "execution_count": 5,
     "metadata": {},
     "output_type": "execute_result"
    }
   ],
   "source": [
    "data.isnull().sum()"
   ]
  },
  {
   "cell_type": "code",
   "execution_count": 6,
   "id": "d9ef2ac2",
   "metadata": {},
   "outputs": [],
   "source": [
    "from sklearn.compose import ColumnTransformer\n",
    "from sklearn.preprocessing import OneHotEncoder\n",
    "ct = ColumnTransformer(transformers=[('encoder', OneHotEncoder(),[0])], remainder='passthrough')\n",
    "x = np.array(ct.fit_transform(x))"
   ]
  },
  {
   "cell_type": "code",
   "execution_count": 7,
   "id": "8fb3c329",
   "metadata": {},
   "outputs": [
    {
     "name": "stdout",
     "output_type": "stream",
     "text": [
      "[[0.0 0.0 0.0 ... '2' 'small' 'low']\n",
      " [0.0 0.0 0.0 ... '2' 'small' 'med']\n",
      " [0.0 0.0 0.0 ... '2' 'small' 'high']\n",
      " ...\n",
      " [0.0 1.0 0.0 ... 'more' 'big' 'low']\n",
      " [0.0 1.0 0.0 ... 'more' 'big' 'med']\n",
      " [0.0 1.0 0.0 ... 'more' 'big' 'high']]\n"
     ]
    }
   ],
   "source": [
    "print(x)"
   ]
  },
  {
   "cell_type": "code",
   "execution_count": 8,
   "id": "7ee0e808",
   "metadata": {},
   "outputs": [],
   "source": [
    "from sklearn.preprocessing import LabelEncoder\n",
    "le = LabelEncoder()\n",
    "y = le.fit_transform(y)"
   ]
  },
  {
   "cell_type": "code",
   "execution_count": 9,
   "id": "1f877570",
   "metadata": {},
   "outputs": [
    {
     "name": "stdout",
     "output_type": "stream",
     "text": [
      "[2 2 2 ... 2 1 3]\n"
     ]
    }
   ],
   "source": [
    "print (y)"
   ]
  },
  {
   "cell_type": "code",
   "execution_count": 10,
   "id": "cdbba42f",
   "metadata": {},
   "outputs": [],
   "source": [
    "from sklearn.model_selection import train_test_split\n",
    "x_train, x_test, y_train, y_test = train_test_split(x, y, test_size = 0.2, random_state = 1)"
   ]
  },
  {
   "cell_type": "code",
   "execution_count": 11,
   "id": "076e8f6f",
   "metadata": {},
   "outputs": [
    {
     "name": "stdout",
     "output_type": "stream",
     "text": [
      "[[0.0 1.0 0.0 ... '4' 'med' 'med']\n",
      " [1.0 0.0 0.0 ... '4' 'med' 'med']\n",
      " [0.0 0.0 0.0 ... '2' 'small' 'high']\n",
      " ...\n",
      " [0.0 0.0 1.0 ... '4' 'big' 'med']\n",
      " [0.0 0.0 0.0 ... 'more' 'small' 'med']\n",
      " [0.0 0.0 1.0 ... '2' 'big' 'high']]\n"
     ]
    }
   ],
   "source": [
    "print(x_train)"
   ]
  },
  {
   "cell_type": "code",
   "execution_count": 12,
   "id": "4942247d",
   "metadata": {},
   "outputs": [
    {
     "name": "stdout",
     "output_type": "stream",
     "text": [
      "[[0.0 0.0 1.0 ... 'more' 'small' 'low']\n",
      " [1.0 0.0 0.0 ... 'more' 'big' 'med']\n",
      " [1.0 0.0 0.0 ... '2' 'med' 'med']\n",
      " ...\n",
      " [0.0 0.0 0.0 ... '2' 'big' 'high']\n",
      " [0.0 0.0 0.0 ... 'more' 'med' 'med']\n",
      " [0.0 0.0 0.0 ... '4' 'med' 'med']]\n"
     ]
    }
   ],
   "source": [
    "print(x_test)"
   ]
  },
  {
   "cell_type": "code",
   "execution_count": 13,
   "id": "99279c27",
   "metadata": {},
   "outputs": [
    {
     "name": "stdout",
     "output_type": "stream",
     "text": [
      "[1 0 2 ... 0 2 2]\n"
     ]
    }
   ],
   "source": [
    "print(y_train)"
   ]
  },
  {
   "cell_type": "code",
   "execution_count": 14,
   "id": "694befd9",
   "metadata": {},
   "outputs": [
    {
     "name": "stdout",
     "output_type": "stream",
     "text": [
      "[2 0 2 2 2 0 2 2 0 2 0 2 2 2 2 2 2 0 2 2 2 2 2 2 2 2 2 2 2 0 3 2 2 2 2 2 2\n",
      " 2 0 2 2 0 2 2 2 2 2 2 3 2 2 2 2 2 2 2 2 2 2 2 2 3 2 1 2 2 2 2 0 2 2 2 2 2\n",
      " 1 2 2 0 0 0 0 0 1 2 2 3 0 2 0 2 0 2 2 2 2 0 2 2 2 2 0 2 2 2 2 2 2 2 2 2 2\n",
      " 0 2 2 0 0 2 1 2 2 2 2 2 2 3 2 2 2 2 2 2 2 2 2 3 2 2 3 2 2 2 2 0 0 2 0 2 0\n",
      " 2 2 2 2 2 2 1 0 0 2 2 2 2 2 0 2 2 2 2 2 1 2 2 2 2 2 2 2 2 2 2 2 2 2 2 2 2\n",
      " 1 2 2 2 2 0 2 2 3 2 2 0 2 2 2 2 2 0 2 2 2 2 2 2 3 0 0 2 0 2 3 2 2 2 2 2 2\n",
      " 2 0 2 2 2 2 2 2 0 2 2 2 1 0 2 2 0 2 2 2 0 1 2 0 2 0 2 2 2 2 1 2 2 0 0 2 2\n",
      " 2 2 2 2 0 2 2 2 1 2 2 2 0 1 2 2 2 0 2 2 1 2 2 2 2 2 2 2 2 0 2 2 2 2 2 2 2\n",
      " 2 3 2 2 2 2 2 2 2 0 0 2 2 2 2 2 0 2 2 2 2 2 2 2 2 2 3 0 0 2 0 0 2 2 0 1 2\n",
      " 2 2 2 0 2 2 0 0 2 3 2 2 2]\n"
     ]
    }
   ],
   "source": [
    "print(y_test)"
   ]
  },
  {
   "cell_type": "code",
   "execution_count": 22,
   "id": "2c595a12",
   "metadata": {},
   "outputs": [],
   "source": [
    "from sklearn.preprocessing import StandardScaler\n",
    "sc = StandardScaler()\n",
    "scaled_x_train = sc.fit_transform(x_train[:, :3])\n",
    "scaled_x_test = sc.transform(x_test[:, :3])"
   ]
  },
  {
   "cell_type": "code",
   "execution_count": 23,
   "id": "546fdce2",
   "metadata": {},
   "outputs": [
    {
     "name": "stdout",
     "output_type": "stream",
     "text": [
      "[[-0.58682023  1.74722235 -0.57790729 -0.572337  ]\n",
      " [ 1.70409941 -0.572337   -0.57790729 -0.572337  ]\n",
      " [-0.58682023 -0.572337   -0.57790729  1.74722235]\n",
      " ...\n",
      " [-0.58682023 -0.572337    1.73038136 -0.572337  ]\n",
      " [-0.58682023 -0.572337   -0.57790729  1.74722235]\n",
      " [-0.58682023 -0.572337    1.73038136 -0.572337  ]]\n"
     ]
    }
   ],
   "source": [
    "print (scaled_x_train)"
   ]
  },
  {
   "cell_type": "code",
   "execution_count": 24,
   "id": "87b0a139",
   "metadata": {},
   "outputs": [
    {
     "name": "stdout",
     "output_type": "stream",
     "text": [
      "[[-0.58682023 -0.572337    1.73038136 -0.572337  ]\n",
      " [ 1.70409941 -0.572337   -0.57790729 -0.572337  ]\n",
      " [ 1.70409941 -0.572337   -0.57790729 -0.572337  ]\n",
      " ...\n",
      " [-0.58682023 -0.572337   -0.57790729  1.74722235]\n",
      " [-0.58682023 -0.572337   -0.57790729  1.74722235]\n",
      " [-0.58682023 -0.572337   -0.57790729  1.74722235]]\n"
     ]
    }
   ],
   "source": [
    "print (scaled_x_test)"
   ]
  },
  {
   "cell_type": "code",
   "execution_count": null,
   "id": "b2e92cfa",
   "metadata": {},
   "outputs": [],
   "source": []
  }
 ],
 "metadata": {
  "kernelspec": {
   "display_name": "Python 3 (ipykernel)",
   "language": "python",
   "name": "python3"
  },
  "language_info": {
   "codemirror_mode": {
    "name": "ipython",
    "version": 3
   },
   "file_extension": ".py",
   "mimetype": "text/x-python",
   "name": "python",
   "nbconvert_exporter": "python",
   "pygments_lexer": "ipython3",
   "version": "3.10.9"
  }
 },
 "nbformat": 4,
 "nbformat_minor": 5
}
